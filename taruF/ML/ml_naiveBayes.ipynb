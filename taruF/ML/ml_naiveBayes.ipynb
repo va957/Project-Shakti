{
 "cells": [
  {
   "cell_type": "code",
   "execution_count": 1,
   "id": "8b2fbdcb",
   "metadata": {},
   "outputs": [],
   "source": [
    "import pandas as pd\n",
    "import numpy as np\n",
    "from sklearn import preprocessing\n",
    "from sklearn.model_selection import train_test_split\n",
    "from sklearn.naive_bayes import GaussianNB\n",
    "import sklearn.metrics as metrics"
   ]
  },
  {
   "cell_type": "code",
   "execution_count": 6,
   "id": "e2016a60",
   "metadata": {},
   "outputs": [],
   "source": [
    "df[\"prognosis_encode\"] = prognosis_encoded"
   ]
  },
  {
   "cell_type": "code",
   "execution_count": 7,
   "id": "5b668bff",
   "metadata": {},
   "outputs": [
    {
     "name": "stdout",
     "output_type": "stream",
     "text": [
      "prognosis_encode            1.000000\n",
      "sweating                    0.398838\n",
      "breathlessness              0.397287\n",
      "continuous_feel_of_urine    0.386730\n",
      "bladder_discomfort          0.386730\n",
      "burning_micturition         0.375865\n",
      "foul_smell_of urine         0.364742\n",
      "vomiting                    0.351309\n",
      "constipation                0.341232\n",
      "toxic_look_(typhos)         0.341232\n",
      "belly_pain                  0.341232\n",
      "Name: prognosis_encode, dtype: float64\n",
      "skin_rash             -0.473953\n",
      "continuous_sneezing   -0.388773\n",
      "pus_filled_pimples    -0.375865\n",
      "blackheads            -0.375865\n",
      "scurring              -0.375865\n",
      "shivering             -0.331645\n",
      "watering_from_eyes    -0.331645\n",
      "red_spots_over_body   -0.304053\n",
      "swelling_joints       -0.295735\n",
      "painful_walking       -0.295735\n",
      "movement_stiffness    -0.295735\n",
      "Name: prognosis_encode, dtype: float64\n"
     ]
    }
   ],
   "source": [
    "# corr_matrix = df.corr()\n",
    "# print(corr_matrix[\"prognosis_encode\"].sort_values(ascending=False)[:11])\n",
    "# print(corr_matrix[\"prognosis_encode\"].sort_values(ascending=True)[:11])"
   ]
  },
  {
   "cell_type": "code",
   "execution_count": 14,
   "id": "56ad7bef",
   "metadata": {
    "scrolled": true
   },
   "outputs": [
    {
     "data": {
      "text/html": [
       "<div>\n",
       "<style scoped>\n",
       "    .dataframe tbody tr th:only-of-type {\n",
       "        vertical-align: middle;\n",
       "    }\n",
       "\n",
       "    .dataframe tbody tr th {\n",
       "        vertical-align: top;\n",
       "    }\n",
       "\n",
       "    .dataframe thead th {\n",
       "        text-align: right;\n",
       "    }\n",
       "</style>\n",
       "<table border=\"1\" class=\"dataframe\">\n",
       "  <thead>\n",
       "    <tr style=\"text-align: right;\">\n",
       "      <th></th>\n",
       "      <th>sweating</th>\n",
       "      <th>breathlessness</th>\n",
       "      <th>continuous_feel_of_urine</th>\n",
       "      <th>bladder_discomfort</th>\n",
       "      <th>burning_micturition</th>\n",
       "      <th>foul_smell_of urine</th>\n",
       "      <th>vomiting</th>\n",
       "      <th>constipation</th>\n",
       "      <th>toxic_look_(typhos)</th>\n",
       "      <th>belly_pain</th>\n",
       "      <th>...</th>\n",
       "      <th>pus_filled_pimples</th>\n",
       "      <th>blackheads</th>\n",
       "      <th>scurring</th>\n",
       "      <th>shivering</th>\n",
       "      <th>watering_from_eyes</th>\n",
       "      <th>red_spots_over_body</th>\n",
       "      <th>swelling_joints</th>\n",
       "      <th>painful_walking</th>\n",
       "      <th>movement_stiffness</th>\n",
       "      <th>prognosis</th>\n",
       "    </tr>\n",
       "  </thead>\n",
       "  <tbody>\n",
       "    <tr>\n",
       "      <th>0</th>\n",
       "      <td>0</td>\n",
       "      <td>0</td>\n",
       "      <td>0</td>\n",
       "      <td>0</td>\n",
       "      <td>0</td>\n",
       "      <td>0</td>\n",
       "      <td>0</td>\n",
       "      <td>0</td>\n",
       "      <td>0</td>\n",
       "      <td>0</td>\n",
       "      <td>...</td>\n",
       "      <td>0</td>\n",
       "      <td>0</td>\n",
       "      <td>0</td>\n",
       "      <td>0</td>\n",
       "      <td>0</td>\n",
       "      <td>0</td>\n",
       "      <td>0</td>\n",
       "      <td>0</td>\n",
       "      <td>0</td>\n",
       "      <td>Fungal infection</td>\n",
       "    </tr>\n",
       "    <tr>\n",
       "      <th>1</th>\n",
       "      <td>0</td>\n",
       "      <td>0</td>\n",
       "      <td>0</td>\n",
       "      <td>0</td>\n",
       "      <td>0</td>\n",
       "      <td>0</td>\n",
       "      <td>0</td>\n",
       "      <td>0</td>\n",
       "      <td>0</td>\n",
       "      <td>0</td>\n",
       "      <td>...</td>\n",
       "      <td>0</td>\n",
       "      <td>0</td>\n",
       "      <td>0</td>\n",
       "      <td>0</td>\n",
       "      <td>0</td>\n",
       "      <td>0</td>\n",
       "      <td>0</td>\n",
       "      <td>0</td>\n",
       "      <td>0</td>\n",
       "      <td>Fungal infection</td>\n",
       "    </tr>\n",
       "    <tr>\n",
       "      <th>2</th>\n",
       "      <td>0</td>\n",
       "      <td>0</td>\n",
       "      <td>0</td>\n",
       "      <td>0</td>\n",
       "      <td>0</td>\n",
       "      <td>0</td>\n",
       "      <td>0</td>\n",
       "      <td>0</td>\n",
       "      <td>0</td>\n",
       "      <td>0</td>\n",
       "      <td>...</td>\n",
       "      <td>0</td>\n",
       "      <td>0</td>\n",
       "      <td>0</td>\n",
       "      <td>0</td>\n",
       "      <td>0</td>\n",
       "      <td>0</td>\n",
       "      <td>0</td>\n",
       "      <td>0</td>\n",
       "      <td>0</td>\n",
       "      <td>Fungal infection</td>\n",
       "    </tr>\n",
       "    <tr>\n",
       "      <th>3</th>\n",
       "      <td>0</td>\n",
       "      <td>0</td>\n",
       "      <td>0</td>\n",
       "      <td>0</td>\n",
       "      <td>0</td>\n",
       "      <td>0</td>\n",
       "      <td>0</td>\n",
       "      <td>0</td>\n",
       "      <td>0</td>\n",
       "      <td>0</td>\n",
       "      <td>...</td>\n",
       "      <td>0</td>\n",
       "      <td>0</td>\n",
       "      <td>0</td>\n",
       "      <td>0</td>\n",
       "      <td>0</td>\n",
       "      <td>0</td>\n",
       "      <td>0</td>\n",
       "      <td>0</td>\n",
       "      <td>0</td>\n",
       "      <td>Fungal infection</td>\n",
       "    </tr>\n",
       "    <tr>\n",
       "      <th>4</th>\n",
       "      <td>0</td>\n",
       "      <td>0</td>\n",
       "      <td>0</td>\n",
       "      <td>0</td>\n",
       "      <td>0</td>\n",
       "      <td>0</td>\n",
       "      <td>0</td>\n",
       "      <td>0</td>\n",
       "      <td>0</td>\n",
       "      <td>0</td>\n",
       "      <td>...</td>\n",
       "      <td>0</td>\n",
       "      <td>0</td>\n",
       "      <td>0</td>\n",
       "      <td>0</td>\n",
       "      <td>0</td>\n",
       "      <td>0</td>\n",
       "      <td>0</td>\n",
       "      <td>0</td>\n",
       "      <td>0</td>\n",
       "      <td>Fungal infection</td>\n",
       "    </tr>\n",
       "  </tbody>\n",
       "</table>\n",
       "<p>5 rows × 22 columns</p>\n",
       "</div>"
      ],
      "text/plain": [
       "   sweating  breathlessness  continuous_feel_of_urine  bladder_discomfort  \\\n",
       "0         0               0                         0                   0   \n",
       "1         0               0                         0                   0   \n",
       "2         0               0                         0                   0   \n",
       "3         0               0                         0                   0   \n",
       "4         0               0                         0                   0   \n",
       "\n",
       "   burning_micturition  foul_smell_of urine  vomiting  constipation  \\\n",
       "0                    0                    0         0             0   \n",
       "1                    0                    0         0             0   \n",
       "2                    0                    0         0             0   \n",
       "3                    0                    0         0             0   \n",
       "4                    0                    0         0             0   \n",
       "\n",
       "   toxic_look_(typhos)  belly_pain  ...  pus_filled_pimples  blackheads  \\\n",
       "0                    0           0  ...                   0           0   \n",
       "1                    0           0  ...                   0           0   \n",
       "2                    0           0  ...                   0           0   \n",
       "3                    0           0  ...                   0           0   \n",
       "4                    0           0  ...                   0           0   \n",
       "\n",
       "   scurring  shivering  watering_from_eyes  red_spots_over_body  \\\n",
       "0         0          0                   0                    0   \n",
       "1         0          0                   0                    0   \n",
       "2         0          0                   0                    0   \n",
       "3         0          0                   0                    0   \n",
       "4         0          0                   0                    0   \n",
       "\n",
       "   swelling_joints  painful_walking  movement_stiffness         prognosis  \n",
       "0                0                0                   0  Fungal infection  \n",
       "1                0                0                   0  Fungal infection  \n",
       "2                0                0                   0  Fungal infection  \n",
       "3                0                0                   0  Fungal infection  \n",
       "4                0                0                   0  Fungal infection  \n",
       "\n",
       "[5 rows x 22 columns]"
      ]
     },
     "execution_count": 14,
     "metadata": {},
     "output_type": "execute_result"
    }
   ],
   "source": [
    "df1 = pd.DataFrame()\n",
    "df1 = df[[\"sweating\" , \"breathlessness\" , \"continuous_feel_of_urine\" , \"bladder_discomfort\" , \"burning_micturition\" , \"foul_smell_of urine\" , \"vomiting\" , \"constipation\" , \"toxic_look_(typhos)\" , \"belly_pain\" , \"skin_rash\" , \"continuous_sneezing\" , \"pus_filled_pimples\" , \"blackheads\" , \"scurring\" , \"shivering\" , \"watering_from_eyes\" , \"red_spots_over_body\" , \"swelling_joints\" , \"painful_walking\" , \"movement_stiffness\" , \"prognosis\"]]\n",
    "df1.head()"
   ]
  },
  {
   "cell_type": "code",
   "execution_count": null,
   "id": "da0f5697",
   "metadata": {},
   "outputs": [],
   "source": [
    "df1.to_csv('train_2.csv')"
   ]
  },
  {
   "cell_type": "code",
   "execution_count": null,
   "id": "b43060d9",
   "metadata": {},
   "outputs": [],
   "source": []
  },
  {
   "cell_type": "code",
   "execution_count": 21,
   "id": "d424d5ac",
   "metadata": {},
   "outputs": [
    {
     "data": {
      "text/plain": [
       "Index(['sweating', 'breathlessness', 'continuous_feel_of_urine',\n",
       "       'bladder_discomfort', 'burning_micturition', 'foul_smell_of urine',\n",
       "       'vomiting', 'constipation', 'toxic_look_(typhos)', 'belly_pain',\n",
       "       'skin_rash', 'continuous_sneezing', 'pus_filled_pimples', 'blackheads',\n",
       "       'scurring', 'shivering', 'watering_from_eyes', 'red_spots_over_body',\n",
       "       'swelling_joints', 'painful_walking', 'movement_stiffness'],\n",
       "      dtype='object')"
      ]
     },
     "execution_count": 21,
     "metadata": {},
     "output_type": "execute_result"
    }
   ],
   "source": [
    "l = len(df1.columns)\n",
    "features= df1.columns[:(l - 1)]\n",
    "\n",
    "features"
   ]
  },
  {
   "cell_type": "code",
   "execution_count": 22,
   "id": "23268f81",
   "metadata": {},
   "outputs": [],
   "source": [
    "X = df[features]\n",
    "y = prognosis_encoded\n"
   ]
  },
  {
   "cell_type": "code",
   "execution_count": 23,
   "id": "d664559b",
   "metadata": {},
   "outputs": [],
   "source": [
    "X_train,X_test,y_train,y_test=train_test_split(X,y,test_size=0.2,random_state=0)"
   ]
  },
  {
   "cell_type": "code",
   "execution_count": 24,
   "id": "315abed6",
   "metadata": {},
   "outputs": [
    {
     "data": {
      "text/html": [
       "<style>#sk-container-id-1 {color: black;background-color: white;}#sk-container-id-1 pre{padding: 0;}#sk-container-id-1 div.sk-toggleable {background-color: white;}#sk-container-id-1 label.sk-toggleable__label {cursor: pointer;display: block;width: 100%;margin-bottom: 0;padding: 0.3em;box-sizing: border-box;text-align: center;}#sk-container-id-1 label.sk-toggleable__label-arrow:before {content: \"▸\";float: left;margin-right: 0.25em;color: #696969;}#sk-container-id-1 label.sk-toggleable__label-arrow:hover:before {color: black;}#sk-container-id-1 div.sk-estimator:hover label.sk-toggleable__label-arrow:before {color: black;}#sk-container-id-1 div.sk-toggleable__content {max-height: 0;max-width: 0;overflow: hidden;text-align: left;background-color: #f0f8ff;}#sk-container-id-1 div.sk-toggleable__content pre {margin: 0.2em;color: black;border-radius: 0.25em;background-color: #f0f8ff;}#sk-container-id-1 input.sk-toggleable__control:checked~div.sk-toggleable__content {max-height: 200px;max-width: 100%;overflow: auto;}#sk-container-id-1 input.sk-toggleable__control:checked~label.sk-toggleable__label-arrow:before {content: \"▾\";}#sk-container-id-1 div.sk-estimator input.sk-toggleable__control:checked~label.sk-toggleable__label {background-color: #d4ebff;}#sk-container-id-1 div.sk-label input.sk-toggleable__control:checked~label.sk-toggleable__label {background-color: #d4ebff;}#sk-container-id-1 input.sk-hidden--visually {border: 0;clip: rect(1px 1px 1px 1px);clip: rect(1px, 1px, 1px, 1px);height: 1px;margin: -1px;overflow: hidden;padding: 0;position: absolute;width: 1px;}#sk-container-id-1 div.sk-estimator {font-family: monospace;background-color: #f0f8ff;border: 1px dotted black;border-radius: 0.25em;box-sizing: border-box;margin-bottom: 0.5em;}#sk-container-id-1 div.sk-estimator:hover {background-color: #d4ebff;}#sk-container-id-1 div.sk-parallel-item::after {content: \"\";width: 100%;border-bottom: 1px solid gray;flex-grow: 1;}#sk-container-id-1 div.sk-label:hover label.sk-toggleable__label {background-color: #d4ebff;}#sk-container-id-1 div.sk-serial::before {content: \"\";position: absolute;border-left: 1px solid gray;box-sizing: border-box;top: 0;bottom: 0;left: 50%;z-index: 0;}#sk-container-id-1 div.sk-serial {display: flex;flex-direction: column;align-items: center;background-color: white;padding-right: 0.2em;padding-left: 0.2em;position: relative;}#sk-container-id-1 div.sk-item {position: relative;z-index: 1;}#sk-container-id-1 div.sk-parallel {display: flex;align-items: stretch;justify-content: center;background-color: white;position: relative;}#sk-container-id-1 div.sk-item::before, #sk-container-id-1 div.sk-parallel-item::before {content: \"\";position: absolute;border-left: 1px solid gray;box-sizing: border-box;top: 0;bottom: 0;left: 50%;z-index: -1;}#sk-container-id-1 div.sk-parallel-item {display: flex;flex-direction: column;z-index: 1;position: relative;background-color: white;}#sk-container-id-1 div.sk-parallel-item:first-child::after {align-self: flex-end;width: 50%;}#sk-container-id-1 div.sk-parallel-item:last-child::after {align-self: flex-start;width: 50%;}#sk-container-id-1 div.sk-parallel-item:only-child::after {width: 0;}#sk-container-id-1 div.sk-dashed-wrapped {border: 1px dashed gray;margin: 0 0.4em 0.5em 0.4em;box-sizing: border-box;padding-bottom: 0.4em;background-color: white;}#sk-container-id-1 div.sk-label label {font-family: monospace;font-weight: bold;display: inline-block;line-height: 1.2em;}#sk-container-id-1 div.sk-label-container {text-align: center;}#sk-container-id-1 div.sk-container {/* jupyter's `normalize.less` sets `[hidden] { display: none; }` but bootstrap.min.css set `[hidden] { display: none !important; }` so we also need the `!important` here to be able to override the default hidden behavior on the sphinx rendered scikit-learn.org. See: https://github.com/scikit-learn/scikit-learn/issues/21755 */display: inline-block !important;position: relative;}#sk-container-id-1 div.sk-text-repr-fallback {display: none;}</style><div id=\"sk-container-id-1\" class=\"sk-top-container\"><div class=\"sk-text-repr-fallback\"><pre>GaussianNB()</pre><b>In a Jupyter environment, please rerun this cell to show the HTML representation or trust the notebook. <br />On GitHub, the HTML representation is unable to render, please try loading this page with nbviewer.org.</b></div><div class=\"sk-container\" hidden><div class=\"sk-item\"><div class=\"sk-estimator sk-toggleable\"><input class=\"sk-toggleable__control sk-hidden--visually\" id=\"sk-estimator-id-1\" type=\"checkbox\" checked><label for=\"sk-estimator-id-1\" class=\"sk-toggleable__label sk-toggleable__label-arrow\">GaussianNB</label><div class=\"sk-toggleable__content\"><pre>GaussianNB()</pre></div></div></div></div></div>"
      ],
      "text/plain": [
       "GaussianNB()"
      ]
     },
     "execution_count": 24,
     "metadata": {},
     "output_type": "execute_result"
    }
   ],
   "source": [
    "model = GaussianNB()\n",
    "\n",
    "model.fit(X_train , y_train)"
   ]
  },
  {
   "cell_type": "code",
   "execution_count": 25,
   "id": "a38bbab2",
   "metadata": {},
   "outputs": [
    {
     "data": {
      "text/plain": [
       "array([17,  5,  3,  1, 10, 11, 10, 17, 10, 15, 10,  0, 10,  3, 10, 10, 15,\n",
       "       17, 17,  5,  3, 10, 10, 14, 10, 11, 12, 10, 16,  1, 17,  7, 16, 17,\n",
       "       10, 10, 10,  0, 16, 14, 17,  3, 15, 12, 16,  7,  0, 11, 10,  3,  2,\n",
       "        0, 16, 14, 10,  4,  5, 17,  0, 10, 11,  9,  4, 12,  2, 10,  5,  9,\n",
       "        9, 11, 10, 15, 15, 11,  0, 10,  2, 11, 12, 17,  4,  9, 10, 16,  9,\n",
       "       12, 17, 10, 10,  0, 12,  2, 11, 10, 14, 12, 10, 11,  3, 16, 10,  2,\n",
       "        2,  3,  0,  1, 10, 17,  7, 15,  7,  4, 11,  9, 17,  1, 15,  3,  0,\n",
       "        2,  2,  2,  3, 17, 10, 10, 17, 10,  0, 11, 10, 10, 10, 12,  3,  4,\n",
       "        5, 11,  3,  3,  2,  4, 16, 11, 14, 12,  0, 14,  9,  1, 10,  0,  7,\n",
       "        2,  1, 12, 10, 15, 11, 16, 17, 11,  3,  7, 11, 12,  9, 11,  0,  4,\n",
       "        0, 10, 10,  1, 14, 10,  1,  7, 11,  5,  5, 14,  5, 11, 10, 10,  4,\n",
       "       11, 10, 11,  5,  1, 17, 10, 10,  1,  1, 12, 10, 12, 10, 10,  9,  9,\n",
       "       11, 10,  1,  1,  9, 10, 10,  4, 10,  5,  4, 14, 12,  3,  4, 10,  3,\n",
       "        4, 10,  5, 10, 15, 15,  3, 14,  9, 10,  5, 17, 10, 17, 10, 16,  3,\n",
       "       10, 15,  4,  1, 14, 11,  0, 10,  1,  5, 10,  2,  2, 17,  7,  3, 12,\n",
       "        7,  3,  7, 17,  1,  4, 17, 16,  2,  1, 14, 14,  7,  7, 17, 10, 11,\n",
       "        0, 17,  1,  5,  5,  0, 10,  7, 11, 10,  4,  4,  1,  9, 17, 10, 10,\n",
       "        3, 14,  9,  1,  0,  2,  7, 11, 15,  3, 16, 12, 10,  9,  0,  7,  2,\n",
       "       11,  7, 14,  0, 10,  9, 12, 11, 11, 10,  4, 11, 14, 11, 10,  9, 14,\n",
       "        0,  0, 15,  4,  3,  7, 15, 10, 14, 10,  9, 11, 10, 15,  4,  7,  9,\n",
       "       15,  3, 10,  5,  2, 12, 11, 14,  3, 11,  5, 10, 15,  1, 11, 14,  4,\n",
       "        1, 12, 10, 14,  7, 11, 16,  4,  5,  5,  4,  1,  0,  4, 14,  7,  4,\n",
       "        0, 16, 16,  9, 10, 12,  5, 10,  3,  4, 14,  3, 16,  3, 17,  0,  3,\n",
       "       16, 10, 12, 10, 17,  7,  4, 14,  0, 10,  0,  4,  9, 11, 10, 10,  4,\n",
       "        1, 10,  0, 11, 12, 10, 15, 16,  5, 16, 17,  7,  3, 16,  9,  5, 14,\n",
       "        2,  5,  4,  1,  9, 12, 10], dtype=int64)"
      ]
     },
     "execution_count": 25,
     "metadata": {},
     "output_type": "execute_result"
    }
   ],
   "source": [
    "y_pred = model.predict(X_test)\n",
    "y_pred"
   ]
  },
  {
   "cell_type": "code",
   "execution_count": 26,
   "id": "0dbe2052",
   "metadata": {},
   "outputs": [
    {
     "data": {
      "text/plain": [
       "0.7939814814814815"
      ]
     },
     "execution_count": 26,
     "metadata": {},
     "output_type": "execute_result"
    }
   ],
   "source": [
    "score = model.score(X_test , y_test)\n",
    "score"
   ]
  }
 ],
 "metadata": {
  "kernelspec": {
   "display_name": "Python 3 (ipykernel)",
   "language": "python",
   "name": "python3"
  },
  "language_info": {
   "codemirror_mode": {
    "name": "ipython",
    "version": 3
   },
   "file_extension": ".py",
   "mimetype": "text/x-python",
   "name": "python",
   "nbconvert_exporter": "python",
   "pygments_lexer": "ipython3",
   "version": "3.10.5"
  }
 },
 "nbformat": 4,
 "nbformat_minor": 5
}
